{
  "nbformat": 4,
  "nbformat_minor": 0,
  "metadata": {
    "colab": {
      "name": "Keras_efficientnet_transfer_learning.ipynb",
      "provenance": [],
      "include_colab_link": true
    },
    "kernelspec": {
      "name": "python3",
      "display_name": "Python 3"
    },
    "accelerator": "GPU"
  },
  "cells": [
    {
      "cell_type": "markdown",
      "metadata": {
        "id": "view-in-github",
        "colab_type": "text"
      },
      "source": [
        "<a href=\"https://colab.research.google.com/github/vdinni/MyNotebooks/blob/main/Keras_efficientnet_transfer_learning.ipynb\" target=\"_parent\"><img src=\"https://colab.research.google.com/assets/colab-badge.svg\" alt=\"Open In Colab\"/></a>"
      ]
    },
    {
      "cell_type": "markdown",
      "metadata": {
        "id": "G7Evp4GOUt7Z"
      },
      "source": [
        "# [How to do Transfer learning with Efficientnet](https://www.dlology.com/blog/transfer-learning-with-efficientnet/) | DLology"
      ]
    },
    {
      "cell_type": "markdown",
      "metadata": {
        "id": "qYbI0TGpL6Jd"
      },
      "source": [
        "## Imports"
      ]
    },
    {
      "cell_type": "code",
      "metadata": {
        "id": "e4wFQJkBiFWE",
        "outputId": "fae7b330-fdec-46c6-b680-fc2aef6c2f66",
        "colab": {
          "base_uri": "https://localhost:8080/",
          "height": 325
        }
      },
      "source": [
        "# Downgrade pillow to avoid `UserWarning: Possibly corrupt EXIF data.`\n",
        "!pip install pillow==4.0.0"
      ],
      "execution_count": null,
      "outputs": [
        {
          "output_type": "stream",
          "text": [
            "Collecting pillow==4.0.0\n",
            "\u001b[?25l  Downloading https://files.pythonhosted.org/packages/37/e8/b3fbf87b0188d22246678f8cd61e23e31caa1769ebc06f1664e2e5fe8a17/Pillow-4.0.0-cp36-cp36m-manylinux1_x86_64.whl (5.6MB)\n",
            "\u001b[K     |████████████████████████████████| 5.6MB 2.7MB/s \n",
            "\u001b[?25hRequirement already satisfied: olefile in /usr/local/lib/python3.6/dist-packages (from pillow==4.0.0) (0.46)\n",
            "\u001b[31mERROR: torchvision 0.3.0 has requirement pillow>=4.1.1, but you'll have pillow 4.0.0 which is incompatible.\u001b[0m\n",
            "\u001b[31mERROR: scikit-image 0.15.0 has requirement pillow>=4.3.0, but you'll have pillow 4.0.0 which is incompatible.\u001b[0m\n",
            "\u001b[31mERROR: albumentations 0.1.12 has requirement imgaug<0.2.7,>=0.2.5, but you'll have imgaug 0.2.9 which is incompatible.\u001b[0m\n",
            "Installing collected packages: pillow\n",
            "  Found existing installation: Pillow 4.3.0\n",
            "    Uninstalling Pillow-4.3.0:\n",
            "      Successfully uninstalled Pillow-4.3.0\n",
            "Successfully installed pillow-4.0.0\n"
          ],
          "name": "stdout"
        },
        {
          "output_type": "display_data",
          "data": {
            "application/vnd.colab-display-data+json": {
              "pip_warning": {
                "packages": [
                  "PIL"
                ]
              }
            }
          },
          "metadata": {
            "tags": []
          }
        }
      ]
    },
    {
      "cell_type": "code",
      "metadata": {
        "id": "SmzQmZdKDfSF"
      },
      "source": [
        "from tensorflow.keras import models\n",
        "from tensorflow.keras import layers\n",
        "from tensorflow.keras import optimizers\n",
        "import os\n",
        "import glob\n",
        "import shutil\n",
        "import sys\n",
        "import numpy as np\n",
        "from skimage.io import imread\n",
        "import matplotlib.pyplot as plt\n",
        "from IPython.display import Image\n",
        "%matplotlib inline"
      ],
      "execution_count": null,
      "outputs": []
    },
    {
      "cell_type": "markdown",
      "metadata": {
        "id": "VpdwDI3vL8sQ"
      },
      "source": [
        "## Hyper parameters"
      ]
    },
    {
      "cell_type": "code",
      "metadata": {
        "id": "mp4TOw5rJs0M"
      },
      "source": [
        "batch_size = 48\n",
        "\n",
        "width = 150\n",
        "height = 150\n",
        "epochs = 20\n",
        "NUM_TRAIN = 2000\n",
        "NUM_TEST = 1000\n",
        "dropout_rate = 0.2\n",
        "input_shape = (height, width, 3)"
      ],
      "execution_count": null,
      "outputs": []
    },
    {
      "cell_type": "markdown",
      "metadata": {
        "id": "R9S4UyubKPUc"
      },
      "source": [
        "## Clone **efficientnet** repo"
      ]
    },
    {
      "cell_type": "code",
      "metadata": {
        "id": "mnyJvYF_yXLo",
        "outputId": "1bb2c8ea-2ef2-4150-8093-2b07d6b68cff",
        "colab": {
          "base_uri": "https://localhost:8080/",
          "height": 181
        }
      },
      "source": [
        "import os\n",
        "%cd /content\n",
        "if not os.path.isdir(\"efficientnet_keras_transfer_learning\"):\n",
        "  !git clone https://github.com/Tony607/efficientnet_keras_transfer_learning\n",
        "%cd efficientnet_keras_transfer_learning/"
      ],
      "execution_count": null,
      "outputs": [
        {
          "output_type": "stream",
          "text": [
            "/content\n",
            "Cloning into 'efficientnet_keras_transfer_learning'...\n",
            "remote: Enumerating objects: 168, done.\u001b[K\n",
            "remote: Counting objects: 100% (168/168), done.\u001b[K\n",
            "remote: Compressing objects: 100% (71/71), done.\u001b[K\n",
            "remote: Total 168 (delta 97), reused 161 (delta 93), pack-reused 0\u001b[K\n",
            "Receiving objects: 100% (168/168), 5.34 MiB | 29.58 MiB/s, done.\n",
            "Resolving deltas: 100% (97/97), done.\n",
            "/content/efficientnet_keras_transfer_learning\n"
          ],
          "name": "stdout"
        }
      ]
    },
    {
      "cell_type": "markdown",
      "metadata": {
        "id": "oO7kxxRaMC2q"
      },
      "source": [
        "## Import efficientnet and load the conv base model"
      ]
    },
    {
      "cell_type": "code",
      "metadata": {
        "id": "vq00KoYUzOSc",
        "outputId": "ff3e2db9-f3ec-47d0-afa7-edac55753e83",
        "colab": {
          "base_uri": "https://localhost:8080/",
          "height": 35
        }
      },
      "source": [
        "# Options: EfficientNetB0, EfficientNetB1, EfficientNetB2, EfficientNetB3\n",
        "# Higher the number, the more complex the model is.\n",
        "from efficientnet import EfficientNetB0 as Net\n",
        "from efficientnet import center_crop_and_resize, preprocess_input"
      ],
      "execution_count": null,
      "outputs": [
        {
          "output_type": "stream",
          "text": [
            "Using TensorFlow backend.\n"
          ],
          "name": "stderr"
        }
      ]
    },
    {
      "cell_type": "code",
      "metadata": {
        "id": "PeETTKsszRj0",
        "outputId": "47cfda99-d165-4a81-e78e-14f356c1e26b",
        "colab": {
          "base_uri": "https://localhost:8080/",
          "height": 237
        }
      },
      "source": [
        "# loading pretrained conv base model\n",
        "conv_base = Net(weights='imagenet', include_top=False, input_shape=input_shape)"
      ],
      "execution_count": null,
      "outputs": [
        {
          "output_type": "stream",
          "text": [
            "WARNING:tensorflow:From /usr/local/lib/python3.6/dist-packages/tensorflow/python/ops/resource_variable_ops.py:435: colocate_with (from tensorflow.python.framework.ops) is deprecated and will be removed in a future version.\n",
            "Instructions for updating:\n",
            "Colocations handled automatically by placer.\n",
            "WARNING:tensorflow:From /usr/local/lib/python3.6/dist-packages/tensorflow/python/framework/function.py:1007: calling Graph.create_op (from tensorflow.python.framework.ops) with compute_shapes is deprecated and will be removed in a future version.\n",
            "Instructions for updating:\n",
            "Shapes are always computed; don't use the compute_shapes as it has no effect.\n",
            "WARNING:tensorflow:From /content/efficientnet_keras_transfer_learning/efficientnet/layers.py:30: div (from tensorflow.python.ops.math_ops) is deprecated and will be removed in a future version.\n",
            "Instructions for updating:\n",
            "Deprecated in favor of operator or tf.math.divide.\n",
            "Downloading data from https://github.com/qubvel/efficientnet/releases/download/v0.0.1/efficientnet-b0_imagenet_1000_notop.h5\n",
            "16719872/16717576 [==============================] - 0s 0us/step\n"
          ],
          "name": "stdout"
        }
      ]
    },
    {
      "cell_type": "markdown",
      "metadata": {
        "id": "WONAK_7CKY6z"
      },
      "source": [
        "## Download and extract `dog_vs_cat` dataset"
      ]
    },
    {
      "cell_type": "code",
      "metadata": {
        "id": "8Tp1YzND3dUs",
        "outputId": "9783a347-71d8-44bd-cd7d-a201fa53b5f1",
        "colab": {
          "base_uri": "https://localhost:8080/",
          "height": 217
        }
      },
      "source": [
        "if not os.path.isfile(\"kagglecatsanddogs_3367a.zip\"):\n",
        "  !wget https://download.microsoft.com/download/3/E/1/3E1C3F21-ECDB-4869-8368-6DEBA77B919F/kagglecatsanddogs_3367a.zip\n",
        "  !unzip -qq kagglecatsanddogs_3367a.zip -d dog_vs_cat\n",
        "else:\n",
        "  print(\"dataset already exist.\")"
      ],
      "execution_count": null,
      "outputs": [
        {
          "output_type": "stream",
          "text": [
            "--2019-06-09 01:29:04--  https://download.microsoft.com/download/3/E/1/3E1C3F21-ECDB-4869-8368-6DEBA77B919F/kagglecatsanddogs_3367a.zip\n",
            "Resolving download.microsoft.com (download.microsoft.com)... 184.28.88.168, 2600:1408:8400:3a9::e59, 2600:1408:8400:385::e59\n",
            "Connecting to download.microsoft.com (download.microsoft.com)|184.28.88.168|:443... connected.\n",
            "HTTP request sent, awaiting response... 200 OK\n",
            "Length: 824894548 (787M) [application/octet-stream]\n",
            "Saving to: ‘kagglecatsanddogs_3367a.zip’\n",
            "\n",
            "kagglecatsanddogs_3 100%[===================>] 786.68M   126MB/s    in 5.7s    \n",
            "\n",
            "2019-06-09 01:29:10 (138 MB/s) - ‘kagglecatsanddogs_3367a.zip’ saved [824894548/824894548]\n",
            "\n"
          ],
          "name": "stdout"
        }
      ]
    },
    {
      "cell_type": "code",
      "metadata": {
        "id": "4OdmlrfP40sc",
        "outputId": "f691574d-bd32-49ec-eea9-65911bd87443",
        "colab": {
          "base_uri": "https://localhost:8080/",
          "height": 217
        }
      },
      "source": [
        "!ls dog_vs_cat/PetImages/\n",
        "!ls dog_vs_cat/PetImages/Cat -l -t | head -10"
      ],
      "execution_count": null,
      "outputs": [
        {
          "output_type": "stream",
          "text": [
            "Cat  Dog\n",
            "total 408428\n",
            "-rw-r--r-- 1 root root   34297 Feb 10  2017 9955.jpg\n",
            "-rw-r--r-- 1 root root   26013 Feb 10  2017 9956.jpg\n",
            "-rw-r--r-- 1 root root   26293 Feb 10  2017 9957.jpg\n",
            "-rw-r--r-- 1 root root   36293 Feb 10  2017 9958.jpg\n",
            "-rw-r--r-- 1 root root   36690 Feb 10  2017 9959.jpg\n",
            "-rw-r--r-- 1 root root   15262 Feb 10  2017 9960.jpg\n",
            "-rw-r--r-- 1 root root   49493 Feb 10  2017 9961.jpg\n",
            "-rw-r--r-- 1 root root   14785 Feb 10  2017 9962.jpg\n",
            "-rw-r--r-- 1 root root   39717 Feb 10  2017 9963.jpg\n"
          ],
          "name": "stdout"
        }
      ]
    },
    {
      "cell_type": "code",
      "metadata": {
        "id": "SOXcZDirjoL4",
        "outputId": "bf33b54a-3aae-4429-aa4f-6e17104158ac",
        "colab": {
          "base_uri": "https://localhost:8080/",
          "height": 54
        }
      },
      "source": [
        "# The path to the directory where the original\n",
        "# dataset was uncompressed\n",
        "original_dataset_dir = './dog_vs_cat/PetImages'\n",
        "\n",
        "cat_images = glob.glob(os.path.join(original_dataset_dir, \"Cat\", '*.jpg'))\n",
        "dog_images = glob.glob(os.path.join(original_dataset_dir, \"Dog\", '*.jpg'))\n",
        "print(\"total cat images: {}\\n\\rtotal dog images: {}\".format(len(cat_images), len(dog_images)))"
      ],
      "execution_count": null,
      "outputs": [
        {
          "output_type": "stream",
          "text": [
            "total cat images: 12500\n",
            "\rtotal dog images: 12500\n"
          ],
          "name": "stdout"
        }
      ]
    },
    {
      "cell_type": "code",
      "metadata": {
        "id": "IBqtrHVu5iUE"
      },
      "source": [
        "\n",
        "\n",
        "# The directory where we will\n",
        "# store our smaller dataset\n",
        "base_dir = './data/dog_vs_cat_small'\n",
        "os.makedirs(base_dir, exist_ok=True)\n",
        "\n",
        "# Directories for our training,\n",
        "# validation and test splits\n",
        "train_dir = os.path.join(base_dir, 'train')\n",
        "os.makedirs(train_dir, exist_ok=True)\n",
        "validation_dir = os.path.join(base_dir, 'validation')\n",
        "os.makedirs(validation_dir, exist_ok=True)\n",
        "test_dir = os.path.join(base_dir, 'test')\n",
        "os.makedirs(test_dir, exist_ok=True)\n",
        "\n",
        "# Directory with our training cat pictures\n",
        "train_cats_dir = os.path.join(train_dir, 'cats')\n",
        "os.makedirs(train_cats_dir, exist_ok=True)\n",
        "\n",
        "# Directory with our training dog pictures\n",
        "train_dogs_dir = os.path.join(train_dir, 'dogs')\n",
        "os.makedirs(train_dogs_dir, exist_ok=True)\n",
        "\n",
        "# Directory with our validation cat pictures\n",
        "validation_cats_dir = os.path.join(validation_dir, 'cats')\n",
        "os.makedirs(validation_cats_dir, exist_ok=True)\n",
        "\n",
        "# Directory with our validation dog pictures\n",
        "validation_dogs_dir = os.path.join(validation_dir, 'dogs')\n",
        "os.makedirs(validation_dogs_dir, exist_ok=True)\n",
        "\n",
        "# Directory with our validation cat pictures\n",
        "test_cats_dir = os.path.join(test_dir, 'cats')\n",
        "os.makedirs(test_cats_dir, exist_ok=True)\n",
        "\n",
        "# Directory with our validation dog pictures\n",
        "test_dogs_dir = os.path.join(test_dir, 'dogs')\n",
        "os.makedirs(test_dogs_dir, exist_ok=True)\n",
        "\n",
        "# Copy first NUM_TRAIN//2 cat images to train_cats_dir\n",
        "fnames = cat_images[:NUM_TRAIN//2]\n",
        "for fname in fnames:\n",
        "    dst = os.path.join(train_cats_dir, os.path.basename(fname))\n",
        "    shutil.copyfile(fname, dst)\n",
        "\n",
        "offset = NUM_TRAIN//2\n",
        "# Copy next NUM_TEST //2 cat images to validation_cats_dir\n",
        "fnames = cat_images[offset:offset + NUM_TEST // 2]\n",
        "for fname in fnames:\n",
        "    dst = os.path.join(validation_cats_dir, os.path.basename(fname))\n",
        "    shutil.copyfile(fname, dst)\n",
        "offset = offset + NUM_TEST // 2\n",
        "# Copy next NUM_TRAIN//2 cat images to test_cats_dir\n",
        "fnames = cat_images[offset:offset + NUM_TEST // 2]\n",
        "for fname in fnames:\n",
        "    dst = os.path.join(test_cats_dir, os.path.basename(fname))\n",
        "    shutil.copyfile(fname, dst)\n",
        "\n",
        "\n",
        "# Copy first NUM_TRAIN//2 dog images to train_dogs_dir\n",
        "fnames = dog_images[:NUM_TRAIN//2]\n",
        "for fname in fnames:\n",
        "    dst = os.path.join(train_dogs_dir, os.path.basename(fname))\n",
        "    shutil.copyfile(fname, dst)\n",
        "\n",
        "offset = NUM_TRAIN//2\n",
        "# Copy next NUM_TEST // 2 dog images to validation_dogs_dir\n",
        "fnames = dog_images[offset:offset + NUM_TEST // 2]\n",
        "for fname in fnames:\n",
        "    dst = os.path.join(validation_dogs_dir, os.path.basename(fname))\n",
        "    shutil.copyfile(fname, dst)\n",
        "offset = offset + NUM_TEST // 2\n",
        "\n",
        "# Copy next NUM_TEST // 2 dog images to test_dogs_dir\n",
        "fnames = dog_images[offset:offset + NUM_TEST // 2]\n",
        "for fname in fnames:\n",
        "    dst = os.path.join(test_dogs_dir, os.path.basename(fname))\n",
        "    shutil.copyfile(fname, dst)"
      ],
      "execution_count": null,
      "outputs": []
    },
    {
      "cell_type": "code",
      "metadata": {
        "id": "WyD74zWe56WK",
        "outputId": "2ad6848a-8237-4f3b-c8d0-12e01526dd45",
        "colab": {
          "base_uri": "https://localhost:8080/",
          "height": 126
        }
      },
      "source": [
        "print('total training cat images:', len(os.listdir(train_cats_dir)))\n",
        "print('total training dog images:', len(os.listdir(train_dogs_dir)))\n",
        "print('total validation cat images:', len(os.listdir(validation_cats_dir)))\n",
        "print('total validation dog images:', len(os.listdir(validation_dogs_dir)))\n",
        "print('total test cat images:', len(os.listdir(test_cats_dir)))\n",
        "print('total test dog images:', len(os.listdir(test_dogs_dir)))"
      ],
      "execution_count": null,
      "outputs": [
        {
          "output_type": "stream",
          "text": [
            "total training cat images: 1000\n",
            "total training dog images: 1000\n",
            "total validation cat images: 500\n",
            "total validation dog images: 500\n",
            "total test cat images: 500\n",
            "total test dog images: 500\n"
          ],
          "name": "stdout"
        }
      ]
    },
    {
      "cell_type": "code",
      "metadata": {
        "id": "D9MM2WA49zyj",
        "outputId": "0621c81c-d68b-40fd-e7e6-1a87a9fe23ca",
        "colab": {
          "base_uri": "https://localhost:8080/",
          "height": 54
        }
      },
      "source": [
        "from tensorflow.keras.preprocessing.image import ImageDataGenerator\n",
        "\n",
        "train_datagen = ImageDataGenerator(\n",
        "      rescale=1./255,\n",
        "      rotation_range=40,\n",
        "      width_shift_range=0.2,\n",
        "      height_shift_range=0.2,\n",
        "      shear_range=0.2,\n",
        "      zoom_range=0.2,\n",
        "      horizontal_flip=True,\n",
        "      fill_mode='nearest')\n",
        "\n",
        "# Note that the validation data should not be augmented!\n",
        "test_datagen = ImageDataGenerator(rescale=1./255)\n",
        "\n",
        "train_generator = train_datagen.flow_from_directory(\n",
        "        # This is the target directory\n",
        "        train_dir,\n",
        "        # All images will be resized to target height and width.\n",
        "        target_size=(height, width),\n",
        "        batch_size=batch_size,\n",
        "        # Since we use categorical_crossentropy loss, we need categorical labels\n",
        "        class_mode='categorical')\n",
        "\n",
        "validation_generator = test_datagen.flow_from_directory(\n",
        "        validation_dir,\n",
        "        target_size=(height, width),\n",
        "        batch_size=batch_size,\n",
        "        class_mode='categorical')"
      ],
      "execution_count": null,
      "outputs": [
        {
          "output_type": "stream",
          "text": [
            "Found 2000 images belonging to 2 classes.\n",
            "Found 1000 images belonging to 2 classes.\n"
          ],
          "name": "stdout"
        }
      ]
    },
    {
      "cell_type": "code",
      "metadata": {
        "id": "lgjoz26l-HfD",
        "colab": {
          "base_uri": "https://localhost:8080/",
          "height": 92
        },
        "outputId": "45b9c73c-e278-4eb8-ad7c-c97b1509a2ab"
      },
      "source": [
        "model = models.Sequential()\n",
        "model.add(conv_base)\n",
        "model.add(layers.GlobalMaxPooling2D(name=\"gap\"))\n",
        "# model.add(layers.Flatten(name=\"flatten\"))\n",
        "if dropout_rate > 0:\n",
        "    model.add(layers.Dropout(dropout_rate, name=\"dropout_out\"))\n",
        "# model.add(layers.Dense(256, activation='relu', name=\"fc1\"))\n",
        "model.add(layers.Dense(2, activation='softmax', name=\"fc_out\"))"
      ],
      "execution_count": null,
      "outputs": [
        {
          "output_type": "stream",
          "text": [
            "WARNING:tensorflow:From /usr/local/lib/python3.6/dist-packages/tensorflow/python/keras/layers/core.py:143: calling dropout (from tensorflow.python.ops.nn_ops) with keep_prob is deprecated and will be removed in a future version.\n",
            "Instructions for updating:\n",
            "Please use `rate` instead of `keep_prob`. Rate should be set to `rate = 1 - keep_prob`.\n"
          ],
          "name": "stdout"
        }
      ]
    },
    {
      "cell_type": "code",
      "metadata": {
        "id": "4iAX7AegDHUS",
        "outputId": "3ed31603-826c-487d-b6cd-31e495240c57",
        "colab": {
          "base_uri": "https://localhost:8080/",
          "height": 290
        }
      },
      "source": [
        "model.summary()"
      ],
      "execution_count": null,
      "outputs": [
        {
          "output_type": "stream",
          "text": [
            "_________________________________________________________________\n",
            "Layer (type)                 Output Shape              Param #   \n",
            "=================================================================\n",
            "efficientnet-b0 (Model)      (None, 5, 5, 1280)        4049564   \n",
            "_________________________________________________________________\n",
            "gap (GlobalMaxPooling2D)     (None, 1280)              0         \n",
            "_________________________________________________________________\n",
            "dropout_out (Dropout)        (None, 1280)              0         \n",
            "_________________________________________________________________\n",
            "fc_out (Dense)               (None, 2)                 2562      \n",
            "=================================================================\n",
            "Total params: 4,052,126\n",
            "Trainable params: 4,010,110\n",
            "Non-trainable params: 42,016\n",
            "_________________________________________________________________\n"
          ],
          "name": "stdout"
        }
      ]
    },
    {
      "cell_type": "code",
      "metadata": {
        "id": "_N-F9Z-uDJAi",
        "outputId": "595c49cc-434b-4a26-cef2-b5770c1e50b6",
        "colab": {
          "base_uri": "https://localhost:8080/",
          "height": 54
        }
      },
      "source": [
        "print('This is the number of trainable layers '\n",
        "      'before freezing the conv base:', len(model.trainable_weights))\n",
        "\n",
        "conv_base.trainable = False\n",
        "\n",
        "print('This is the number of trainable layers '\n",
        "      'after freezing the conv base:', len(model.trainable_weights))"
      ],
      "execution_count": null,
      "outputs": [
        {
          "output_type": "stream",
          "text": [
            "This is the number of trainable layers before freezing the conv base: 213\n",
            "This is the number of trainable layers after freezing the conv base: 2\n"
          ],
          "name": "stdout"
        }
      ]
    },
    {
      "cell_type": "code",
      "metadata": {
        "id": "SJHDUrjw2wRG",
        "colab": {
          "base_uri": "https://localhost:8080/",
          "height": 1108
        },
        "outputId": "e70fbae8-c9e2-49af-d9d0-661d1dfef385"
      },
      "source": [
        "model.compile(loss='categorical_crossentropy',\n",
        "              optimizer=optimizers.RMSprop(lr=2e-5),\n",
        "              metrics=['acc'])\n",
        "history = model.fit_generator(\n",
        "      train_generator,\n",
        "      steps_per_epoch= NUM_TRAIN //batch_size,\n",
        "      epochs=epochs,\n",
        "      validation_data=validation_generator,\n",
        "      validation_steps= NUM_TEST //batch_size,\n",
        "      verbose=1,\n",
        "      use_multiprocessing=True,\n",
        "      workers=4)"
      ],
      "execution_count": null,
      "outputs": [
        {
          "output_type": "stream",
          "text": [
            "Epoch 1/20\n",
            "21/21 [==============================] - 7s 354ms/step - loss: 1.6408 - acc: 0.4720\n",
            "42/42 [==============================] - 19s 443ms/step - loss: 1.8058 - acc: 0.5170 - val_loss: 1.6408 - val_acc: 0.4720\n",
            "Epoch 2/20\n",
            "21/21 [==============================] - 6s 302ms/step - loss: 1.5966 - acc: 0.4960\n",
            "42/42 [==============================] - 17s 394ms/step - loss: 1.8047 - acc: 0.5245 - val_loss: 1.5966 - val_acc: 0.4960\n",
            "Epoch 3/20\n",
            "21/21 [==============================] - 6s 303ms/step - loss: 1.5447 - acc: 0.5050\n",
            "42/42 [==============================] - 16s 388ms/step - loss: 1.8297 - acc: 0.5210 - val_loss: 1.5447 - val_acc: 0.5050\n",
            "Epoch 4/20\n",
            "21/21 [==============================] - 6s 299ms/step - loss: 1.4762 - acc: 0.5260\n",
            "42/42 [==============================] - 16s 388ms/step - loss: 1.6701 - acc: 0.5405 - val_loss: 1.4762 - val_acc: 0.5260\n",
            "Epoch 5/20\n",
            "21/21 [==============================] - 6s 308ms/step - loss: 1.4191 - acc: 0.5370\n",
            "42/42 [==============================] - 17s 400ms/step - loss: 1.6825 - acc: 0.5390 - val_loss: 1.4191 - val_acc: 0.5370\n",
            "Epoch 6/20\n",
            "21/21 [==============================] - 6s 304ms/step - loss: 1.3300 - acc: 0.5660\n",
            "42/42 [==============================] - 16s 391ms/step - loss: 1.5552 - acc: 0.5655 - val_loss: 1.3300 - val_acc: 0.5660\n",
            "Epoch 7/20\n",
            "21/21 [==============================] - 6s 307ms/step - loss: 1.2348 - acc: 0.5770\n",
            "42/42 [==============================] - 16s 390ms/step - loss: 1.6115 - acc: 0.5635 - val_loss: 1.2348 - val_acc: 0.5770\n",
            "Epoch 8/20\n",
            "21/21 [==============================] - 6s 303ms/step - loss: 1.1718 - acc: 0.6030\n",
            "42/42 [==============================] - 16s 391ms/step - loss: 1.5049 - acc: 0.5700 - val_loss: 1.1718 - val_acc: 0.6030\n",
            "Epoch 9/20\n",
            "21/21 [==============================] - 6s 303ms/step - loss: 1.1113 - acc: 0.6220\n",
            "42/42 [==============================] - 17s 396ms/step - loss: 1.5342 - acc: 0.5755 - val_loss: 1.1113 - val_acc: 0.6220\n",
            "Epoch 10/20\n",
            "21/21 [==============================] - 6s 300ms/step - loss: 1.0512 - acc: 0.6450\n",
            "42/42 [==============================] - 16s 389ms/step - loss: 1.4217 - acc: 0.5865 - val_loss: 1.0512 - val_acc: 0.6450\n",
            "Epoch 11/20\n",
            "21/21 [==============================] - 6s 290ms/step - loss: 1.0114 - acc: 0.6570\n",
            "42/42 [==============================] - 16s 386ms/step - loss: 1.4366 - acc: 0.5990 - val_loss: 1.0114 - val_acc: 0.6570\n",
            "Epoch 12/20\n",
            "21/21 [==============================] - 6s 291ms/step - loss: 0.9676 - acc: 0.6660\n",
            "42/42 [==============================] - 16s 387ms/step - loss: 1.3777 - acc: 0.5995 - val_loss: 0.9676 - val_acc: 0.6660\n",
            "Epoch 13/20\n",
            "21/21 [==============================] - 6s 294ms/step - loss: 0.9370 - acc: 0.6760\n",
            "42/42 [==============================] - 16s 384ms/step - loss: 1.3299 - acc: 0.6145 - val_loss: 0.9370 - val_acc: 0.6760\n",
            "Epoch 14/20\n",
            "21/21 [==============================] - 6s 272ms/step - loss: 0.9035 - acc: 0.6810\n",
            "42/42 [==============================] - 16s 385ms/step - loss: 1.3130 - acc: 0.6135 - val_loss: 0.9035 - val_acc: 0.6810\n",
            "Epoch 15/20\n",
            "21/21 [==============================] - 6s 298ms/step - loss: 0.8757 - acc: 0.6920\n",
            "42/42 [==============================] - 16s 384ms/step - loss: 1.2884 - acc: 0.6095 - val_loss: 0.8757 - val_acc: 0.6920\n",
            "Epoch 16/20\n",
            "21/21 [==============================] - 6s 303ms/step - loss: 0.8477 - acc: 0.7010\n",
            "42/42 [==============================] - 16s 388ms/step - loss: 1.1936 - acc: 0.6320 - val_loss: 0.8477 - val_acc: 0.7010\n",
            "Epoch 17/20\n",
            "21/21 [==============================] - 6s 278ms/step - loss: 0.8125 - acc: 0.7090\n",
            "42/42 [==============================] - 16s 385ms/step - loss: 1.1924 - acc: 0.6420 - val_loss: 0.8125 - val_acc: 0.7090\n",
            "Epoch 18/20\n",
            "21/21 [==============================] - 6s 293ms/step - loss: 0.8030 - acc: 0.7130\n",
            "42/42 [==============================] - 16s 380ms/step - loss: 1.2288 - acc: 0.6295 - val_loss: 0.8030 - val_acc: 0.7130\n",
            "Epoch 19/20\n",
            "21/21 [==============================] - 6s 275ms/step - loss: 0.7727 - acc: 0.7220\n",
            "42/42 [==============================] - 16s 376ms/step - loss: 1.1930 - acc: 0.6265 - val_loss: 0.7727 - val_acc: 0.7220\n",
            "Epoch 20/20\n",
            "21/21 [==============================] - 6s 308ms/step - loss: 0.7552 - acc: 0.7250\n",
            "42/42 [==============================] - 16s 392ms/step - loss: 1.1140 - acc: 0.6580 - val_loss: 0.7552 - val_acc: 0.7250\n"
          ],
          "name": "stdout"
        }
      ]
    },
    {
      "cell_type": "code",
      "metadata": {
        "id": "i90iKXuL3CHT",
        "colab": {
          "base_uri": "https://localhost:8080/",
          "height": 545
        },
        "outputId": "11dc236f-ea14-4915-d612-e443c2b5cb01"
      },
      "source": [
        "acc = history.history['acc']\n",
        "val_acc = history.history['val_acc']\n",
        "loss = history.history['loss']\n",
        "val_loss = history.history['val_loss']\n",
        "\n",
        "epochs_x = range(len(acc))\n",
        "\n",
        "plt.plot(epochs_x, acc, 'bo', label='Training acc')\n",
        "plt.plot(epochs_x, val_acc, 'b', label='Validation acc')\n",
        "plt.title('Training and validation accuracy')\n",
        "plt.legend()\n",
        "\n",
        "plt.figure()\n",
        "\n",
        "plt.plot(epochs_x, loss, 'bo', label='Training loss')\n",
        "plt.plot(epochs_x, val_loss, 'b', label='Validation loss')\n",
        "plt.title('Training and validation loss')\n",
        "plt.legend()\n",
        "\n",
        "plt.show()"
      ],
      "execution_count": null,
      "outputs": [
        {
          "output_type": "display_data",
          "data": {
            "image/png": "[encoded data removed]",
            "text/plain": [
              "<Figure size 432x288 with 1 Axes>"
            ]
          },
          "metadata": {
            "tags": []
          }
        },
        {
          "output_type": "display_data",
          "data": {
            "image/png": "[encoded data removed]",
            "text/plain": [
              "<Figure size 432x288 with 1 Axes>"
            ]
          },
          "metadata": {
            "tags": []
          }
        }
      ]
    },
    {
      "cell_type": "markdown",
      "metadata": {
        "id": "4gRv7SwYqT9f"
      },
      "source": [
        "## Fine tuning last several layers."
      ]
    },
    {
      "cell_type": "code",
      "metadata": {
        "id": "yKI8AJxQVB1Q"
      },
      "source": [
        "# multiply_16\n",
        "# set 'multiply_16' and following layers trainable\n",
        "conv_base.trainable = True\n",
        "\n",
        "set_trainable = False\n",
        "for layer in conv_base.layers:\n",
        "    if layer.name == 'multiply_16':\n",
        "        set_trainable = True\n",
        "    if set_trainable:\n",
        "        layer.trainable = True\n",
        "    else:\n",
        "        layer.trainable = False"
      ],
      "execution_count": null,
      "outputs": []
    },
    {
      "cell_type": "code",
      "metadata": {
        "id": "FMjt8tCcDOoC",
        "outputId": "a16c9223-01ff-4aa5-8005-58c4ab06196a",
        "colab": {
          "base_uri": "https://localhost:8080/",
          "height": 1108
        }
      },
      "source": [
        "model.compile(loss='categorical_crossentropy',\n",
        "              optimizer=optimizers.RMSprop(lr=2e-5),\n",
        "              metrics=['acc'])\n",
        "\n",
        "history = model.fit_generator(\n",
        "      train_generator,\n",
        "      steps_per_epoch= NUM_TRAIN //batch_size,\n",
        "      epochs=epochs,\n",
        "      validation_data=validation_generator,\n",
        "      validation_steps= NUM_TEST //batch_size,\n",
        "      verbose=1,\n",
        "      use_multiprocessing=True,\n",
        "      workers=4)"
      ],
      "execution_count": null,
      "outputs": [
        {
          "output_type": "stream",
          "text": [
            "Epoch 1/20\n",
            "21/21 [==============================] - 7s 353ms/step - loss: 0.7262 - acc: 0.7360\n",
            "42/42 [==============================] - 18s 424ms/step - loss: 1.1131 - acc: 0.6610 - val_loss: 0.7262 - val_acc: 0.7360\n",
            "Epoch 2/20\n",
            "21/21 [==============================] - 6s 283ms/step - loss: 0.7053 - acc: 0.7420\n",
            "42/42 [==============================] - 16s 377ms/step - loss: 1.1714 - acc: 0.6570 - val_loss: 0.7053 - val_acc: 0.7420\n",
            "Epoch 3/20\n",
            "21/21 [==============================] - 6s 283ms/step - loss: 0.6855 - acc: 0.7520\n",
            "42/42 [==============================] - 16s 380ms/step - loss: 1.0955 - acc: 0.6690 - val_loss: 0.6855 - val_acc: 0.7520\n",
            "Epoch 4/20\n",
            "21/21 [==============================] - 6s 295ms/step - loss: 0.6783 - acc: 0.7530\n",
            "42/42 [==============================] - 16s 377ms/step - loss: 1.0311 - acc: 0.6660 - val_loss: 0.6783 - val_acc: 0.7530\n",
            "Epoch 5/20\n",
            "21/21 [==============================] - 6s 288ms/step - loss: 0.6653 - acc: 0.7590\n",
            "42/42 [==============================] - 16s 374ms/step - loss: 1.0248 - acc: 0.6850 - val_loss: 0.6653 - val_acc: 0.7590\n",
            "Epoch 6/20\n",
            "21/21 [==============================] - 6s 283ms/step - loss: 0.6460 - acc: 0.7650\n",
            "42/42 [==============================] - 16s 374ms/step - loss: 0.9756 - acc: 0.6945 - val_loss: 0.6460 - val_acc: 0.7650\n",
            "Epoch 7/20\n",
            "21/21 [==============================] - 6s 284ms/step - loss: 0.6377 - acc: 0.7700\n",
            "42/42 [==============================] - 16s 374ms/step - loss: 1.0248 - acc: 0.6880 - val_loss: 0.6377 - val_acc: 0.7700\n",
            "Epoch 8/20\n",
            "21/21 [==============================] - 6s 283ms/step - loss: 0.6184 - acc: 0.7760\n",
            "42/42 [==============================] - 16s 376ms/step - loss: 1.0136 - acc: 0.6885 - val_loss: 0.6184 - val_acc: 0.7760\n",
            "Epoch 9/20\n",
            "21/21 [==============================] - 6s 288ms/step - loss: 0.6057 - acc: 0.7800\n",
            "42/42 [==============================] - 16s 372ms/step - loss: 0.9730 - acc: 0.6970 - val_loss: 0.6057 - val_acc: 0.7800\n",
            "Epoch 10/20\n",
            "21/21 [==============================] - 6s 293ms/step - loss: 0.5994 - acc: 0.7840\n",
            "42/42 [==============================] - 16s 374ms/step - loss: 1.0294 - acc: 0.6835 - val_loss: 0.5994 - val_acc: 0.7840\n",
            "Epoch 11/20\n",
            "21/21 [==============================] - 6s 280ms/step - loss: 0.5816 - acc: 0.7920\n",
            "42/42 [==============================] - 16s 374ms/step - loss: 0.9723 - acc: 0.6930 - val_loss: 0.5816 - val_acc: 0.7920\n",
            "Epoch 12/20\n",
            "21/21 [==============================] - 6s 283ms/step - loss: 0.5776 - acc: 0.7920\n",
            "42/42 [==============================] - 16s 375ms/step - loss: 0.9235 - acc: 0.7125 - val_loss: 0.5776 - val_acc: 0.7920\n",
            "Epoch 13/20\n",
            "21/21 [==============================] - 6s 294ms/step - loss: 0.5685 - acc: 0.7970\n",
            "42/42 [==============================] - 16s 376ms/step - loss: 0.9212 - acc: 0.7120 - val_loss: 0.5685 - val_acc: 0.7970\n",
            "Epoch 14/20\n",
            "21/21 [==============================] - 6s 296ms/step - loss: 0.5505 - acc: 0.8050\n",
            "42/42 [==============================] - 16s 376ms/step - loss: 0.9517 - acc: 0.7015 - val_loss: 0.5505 - val_acc: 0.8050\n",
            "Epoch 15/20\n",
            "21/21 [==============================] - 6s 282ms/step - loss: 0.5416 - acc: 0.8070\n",
            "42/42 [==============================] - 16s 371ms/step - loss: 0.9411 - acc: 0.7030 - val_loss: 0.5416 - val_acc: 0.8070\n",
            "Epoch 16/20\n",
            "21/21 [==============================] - 6s 275ms/step - loss: 0.5367 - acc: 0.8080\n",
            "42/42 [==============================] - 16s 372ms/step - loss: 0.9170 - acc: 0.7025 - val_loss: 0.5367 - val_acc: 0.8080\n",
            "Epoch 17/20\n",
            "21/21 [==============================] - 6s 290ms/step - loss: 0.5396 - acc: 0.8050\n",
            "42/42 [==============================] - 16s 385ms/step - loss: 0.8676 - acc: 0.7210 - val_loss: 0.5396 - val_acc: 0.8050\n",
            "Epoch 18/20\n",
            "21/21 [==============================] - 6s 269ms/step - loss: 0.5310 - acc: 0.8080\n",
            "42/42 [==============================] - 16s 374ms/step - loss: 0.9008 - acc: 0.7185 - val_loss: 0.5310 - val_acc: 0.8080\n",
            "Epoch 19/20\n",
            "21/21 [==============================] - 6s 287ms/step - loss: 0.5139 - acc: 0.8140\n",
            "42/42 [==============================] - 16s 384ms/step - loss: 0.8648 - acc: 0.7200 - val_loss: 0.5139 - val_acc: 0.8140\n",
            "Epoch 20/20\n",
            "21/21 [==============================] - 6s 276ms/step - loss: 0.5055 - acc: 0.8160\n",
            "42/42 [==============================] - 16s 378ms/step - loss: 0.9092 - acc: 0.7190 - val_loss: 0.5055 - val_acc: 0.8160\n"
          ],
          "name": "stdout"
        }
      ]
    },
    {
      "cell_type": "code",
      "metadata": {
        "id": "HvVt5TwoEDz6"
      },
      "source": [
        "os.makedirs(\"./models\", exist_ok=True)\n",
        "model.save('./models/cats_and_dogs_small.h5')"
      ],
      "execution_count": null,
      "outputs": []
    },
    {
      "cell_type": "code",
      "metadata": {
        "id": "65AKWOGiHB5y",
        "outputId": "cf4326af-90de-4224-fab2-f541c885b84b",
        "colab": {
          "base_uri": "https://localhost:8080/",
          "height": 545
        }
      },
      "source": [
        "acc = history.history['acc']\n",
        "val_acc = history.history['val_acc']\n",
        "loss = history.history['loss']\n",
        "val_loss = history.history['val_loss']\n",
        "\n",
        "epochs_x = range(len(acc))\n",
        "\n",
        "plt.plot(epochs_x, acc, 'bo', label='Training acc')\n",
        "plt.plot(epochs_x, val_acc, 'b', label='Validation acc')\n",
        "plt.title('Training and validation accuracy')\n",
        "plt.legend()\n",
        "\n",
        "plt.figure()\n",
        "\n",
        "plt.plot(epochs_x, loss, 'bo', label='Training loss')\n",
        "plt.plot(epochs_x, val_loss, 'b', label='Validation loss')\n",
        "plt.title('Training and validation loss')\n",
        "plt.legend()\n",
        "\n",
        "plt.show()"
      ],
      "execution_count": null,
      "outputs": [
        {
          "output_type": "display_data",
          "data": {
            "image/png": "[encoded data removed]",
            "text/plain": [
              "<Figure size 432x288 with 1 Axes>"
            ]
          },
          "metadata": {
            "tags": []
          }
        },
        {
          "output_type": "display_data",
          "data": {
            "image/png": "[encoded data removed]",
            "text/plain": [
              "<Figure size 432x288 with 1 Axes>"
            ]
          },
          "metadata": {
            "tags": []
          }
        }
      ]
    },
    {
      "cell_type": "markdown",
      "metadata": {
        "id": "bigZr9kjL2sY"
      },
      "source": [
        "## Test predict"
      ]
    },
    {
      "cell_type": "code",
      "metadata": {
        "id": "JWTv_-7CHqZB"
      },
      "source": [
        "cat_img = cat_images[-1]\n",
        "dog_img= dog_images[-1]"
      ],
      "execution_count": null,
      "outputs": []
    },
    {
      "cell_type": "code",
      "metadata": {
        "id": "_VFoNC0TLzaf",
        "outputId": "c89478d6-3629-48e1-e90c-ccc19073af33",
        "colab": {
          "base_uri": "https://localhost:8080/",
          "height": 393
        }
      },
      "source": [
        "Image(filename=cat_img)"
      ],
      "execution_count": null,
      "outputs": [
        {
          "output_type": "execute_result",
          "data": {
            "image/jpeg": "[encoded data removed]",
            "text/plain": [
              "<IPython.core.display.Image object>"
            ]
          },
          "metadata": {
            "tags": []
          },
          "execution_count": 36
        }
      ]
    },
    {
      "cell_type": "code",
      "metadata": {
        "id": "J4euiZSwLyZh",
        "outputId": "a86a4189-2907-494e-9ad7-ea2d3dbbe5e7",
        "colab": {
          "base_uri": "https://localhost:8080/",
          "height": 393
        }
      },
      "source": [
        "Image(filename=dog_img)"
      ],
      "execution_count": null,
      "outputs": [
        {
          "output_type": "execute_result",
          "data": {
            "image/jpeg": "[encoded data removed]",
            "text/plain": [
              "<IPython.core.display.Image object>"
            ]
          },
          "metadata": {
            "tags": []
          },
          "execution_count": 37
        }
      ]
    },
    {
      "cell_type": "code",
      "metadata": {
        "id": "SLDHANW_HPVv",
        "outputId": "ef740530-3bb9-45f8-9e96-2f60524622dd",
        "colab": {
          "base_uri": "https://localhost:8080/",
          "height": 54
        }
      },
      "source": [
        "from tensorflow.keras.preprocessing import image\n",
        "\n",
        "def predict_image(img_path):\n",
        "    # Read the image and resize it\n",
        "    img = image.load_img(img_path, target_size=(height, width))\n",
        "    # Convert it to a Numpy array with target shape.\n",
        "    x = image.img_to_array(img)\n",
        "    # Reshape\n",
        "    x = x.reshape((1,) + x.shape)\n",
        "    x /= 255.\n",
        "    result = model.predict([x])[0][0]\n",
        "    if result > 0.5:\n",
        "        animal = \"cat\"\n",
        "    else:\n",
        "        animal = \"dog\"\n",
        "        result = 1 - result\n",
        "    return animal,result\n",
        "\n",
        "print(predict_image(cat_img))\n",
        "print(predict_image(dog_img))"
      ],
      "execution_count": null,
      "outputs": [
        {
          "output_type": "stream",
          "text": [
            "('cat', 0.9974619)\n",
            "('dog', 0.9999910624692347)\n"
          ],
          "name": "stdout"
        }
      ]
    },
    {
      "cell_type": "markdown",
      "metadata": {
        "id": "ogB16XX3eXaN"
      },
      "source": [
        "## Download the model"
      ]
    },
    {
      "cell_type": "code",
      "metadata": {
        "id": "H_3Zek4eeSXD"
      },
      "source": [
        "from google.colab import files\n",
        "\n",
        "files.download('./models/cats_and_dogs_small.h5')"
      ],
      "execution_count": null,
      "outputs": []
    },
    {
      "cell_type": "code",
      "metadata": {
        "id": "n1rvrVx3CVN0",
        "outputId": "aab036a8-9e6e-4ba2-9927-d4858bf8a229",
        "colab": {
          "base_uri": "https://localhost:8080/",
          "height": 35
        }
      },
      "source": [
        "model.input_shape"
      ],
      "execution_count": null,
      "outputs": [
        {
          "output_type": "execute_result",
          "data": {
            "text/plain": [
              "(None, 150, 150, 3)"
            ]
          },
          "metadata": {
            "tags": []
          },
          "execution_count": 43
        }
      ]
    },
    {
      "cell_type": "markdown",
      "metadata": {
        "id": "j9O9mCbbVPWk"
      },
      "source": [
        "## Load the model"
      ]
    },
    {
      "cell_type": "code",
      "metadata": {
        "id": "rkBE5AZdwLki"
      },
      "source": [
        "from efficientnet.layers import Swish, DropConnect\n",
        "from efficientnet.model import ConvKernalInitializer\n",
        "from tensorflow.keras.utils import get_custom_objects\n",
        "\n",
        "get_custom_objects().update({\n",
        "    'ConvKernalInitializer': ConvKernalInitializer,\n",
        "    'Swish': Swish,\n",
        "    'DropConnect':DropConnect\n",
        "})"
      ],
      "execution_count": null,
      "outputs": []
    },
    {
      "cell_type": "code",
      "metadata": {
        "id": "pURT5B8uVFgq"
      },
      "source": [
        "from tensorflow.keras.models import load_model\n",
        "model = load_model(\"./models/cats_and_dogs_small.h5\")"
      ],
      "execution_count": null,
      "outputs": []
    }
  ]
}